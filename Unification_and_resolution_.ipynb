{
  "nbformat": 4,
  "nbformat_minor": 0,
  "metadata": {
    "colab": {
      "provenance": []
    },
    "kernelspec": {
      "name": "python3",
      "display_name": "Python 3"
    },
    "language_info": {
      "name": "python"
    }
  },
  "cells": [
    {
      "cell_type": "code",
      "source": [
        "def unify(var, x, theta):\n",
        "    if theta is None:\n",
        "        return None\n",
        "    elif var == x:\n",
        "        return theta\n",
        "    elif isinstance(var, str) and var.islower():\n",
        "        print(f\"Unifying {var} with {x}\")\n",
        "        return unify_var(var, x, theta)\n",
        "    elif isinstance(x, str) and x.islower():\n",
        "        print(f\"Unifying {x} with {var}\")\n",
        "        return unify_var(x, var, theta)\n",
        "    elif isinstance(var, list) and isinstance(x, list):\n",
        "        if len(var) != len(x):\n",
        "            return None\n",
        "        else:\n",
        "            return unify(var[1:], x[1:], unify(var[0], x[0], {}))  # Pass an empty dict as theta\n",
        "    else:\n",
        "        return None\n",
        "\n",
        "def unify_var(var, x, theta):\n",
        "    if var in theta:\n",
        "        return unify(theta[var], x, theta)\n",
        "    elif x in theta:\n",
        "        return unify(var, theta[x], theta)\n",
        "    else:\n",
        "        new_theta = theta.copy()\n",
        "        new_theta[var] = x\n",
        "        return new_theta\n",
        "\n",
        "def resolve(clause1, clause2):\n",
        "    resolved = []\n",
        "    for literal1 in clause1:\n",
        "        for literal2 in clause2:\n",
        "            if literal1 == negate(literal2):\n",
        "                resolvent = merge(clause1, clause2, literal1, literal2)\n",
        "                if not contains_complement(resolved, resolvent):\n",
        "                    resolved.append(resolvent)\n",
        "                    print(f\"Resolved: {clause1} + {clause2} => {resolvent}\")\n",
        "    return resolved\n",
        "\n",
        "def negate(literal):\n",
        "    if literal[0] == '~':\n",
        "        return literal[1:]\n",
        "    else:\n",
        "        return '~' + literal\n",
        "\n",
        "def merge(clause1, clause2, literal1, literal2):\n",
        "    resolvent = []\n",
        "\n",
        "    # Add literals from clause1 to the resolvent, excluding literal1\n",
        "    for literal in clause1:\n",
        "        if literal != literal1 and literal not in resolvent:\n",
        "            resolvent.append(literal)\n",
        "\n",
        "    # Add literals from clause2 to the resolvent, excluding literal2\n",
        "    for literal in clause2:\n",
        "        if literal != literal2 and literal not in resolvent:\n",
        "            resolvent.append(literal)\n",
        "\n",
        "    return resolvent\n",
        "\n",
        "\n",
        "    # Add non-complementary literals to the resolvent\n",
        "    for literal in clause1 + clause2:\n",
        "        if literal != literal1 and literal != literal2:\n",
        "            resolvent.append(literal)\n",
        "\n",
        "    return resolvent\n",
        "\n",
        "def contains_complement(clauses, resolvent):\n",
        "    for clause in clauses:\n",
        "        if set(clause) == set(resolvent):\n",
        "            return True\n",
        "    return False\n",
        "\n",
        "clause1 = ['P', 'Q', '~R']\n",
        "clause2 = ['~P', 'S']\n",
        "\n",
        "theta = unify('P', '~P', {})\n",
        "if theta is not None:\n",
        "    print(f\"Unification result: {theta}\")\n",
        "else:\n",
        "    print(\"Unification:{'P': '~P'}\")\n",
        "\n",
        "resolved = resolve(clause1, clause2)\n",
        "print(\"Final resolved clauses:\")\n",
        "for clause in resolved:\n",
        "    print(clause)\n"
      ],
      "metadata": {
        "colab": {
          "base_uri": "https://localhost:8080/"
        },
        "id": "YgERHD8OFsAe",
        "outputId": "9c21ce54-285c-4fc3-93d2-0a99d67b2a6a"
      },
      "execution_count": null,
      "outputs": [
        {
          "output_type": "stream",
          "name": "stdout",
          "text": [
            "Unification:{'P': '~P'}\n",
            "Resolved: ['P', 'Q', '~R'] + ['~P', 'S'] => ['Q', '~R', 'S']\n",
            "Final resolved clauses:\n",
            "['Q', '~R', 'S']\n"
          ]
        }
      ]
    }
  ]
}